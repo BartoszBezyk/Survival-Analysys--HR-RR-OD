{
  "cells": [
    {
      "cell_type": "markdown",
      "source": [
        "# Survival Analysis - HR, OD, RR"
      ],
      "metadata": {
        "id": "FyCqwsdrEvdv"
      }
    },
    {
      "cell_type": "markdown",
      "source": [
        "## a)"
      ],
      "metadata": {
        "id": "C5DScUqAE4Ue"
      }
    },
    {
      "cell_type": "markdown",
      "source": [
        "**For given data determine the variable anemia. Assume that women (0) are anemic if their hemoglobin < 12, and men (1) if their hemoglobin < 13. Then determine the HR, RR and OR statistics and interpret the results.**"
      ],
      "metadata": {
        "id": "p7sDppqiFFyQ"
      }
    },
    {
      "cell_type": "code",
      "source": [
        "dane = read.table(\"http://theta.edu.pl/wp-content/uploads/2021/10/Dane.csv\", header = TRUE, sep=';',dec = '.')\n",
        "head(dane)"
      ],
      "metadata": {
        "id": "GSXllWQg1mK8",
        "colab": {
          "base_uri": "https://localhost:8080/",
          "height": 286
        },
        "outputId": "0c8dbc94-30aa-4538-9dad-09a6bd4568a3"
      },
      "execution_count": 1,
      "outputs": [
        {
          "output_type": "display_data",
          "data": {
            "text/html": [
              "<table class=\"dataframe\">\n",
              "<caption>A data.frame: 6 × 8</caption>\n",
              "<thead>\n",
              "\t<tr><th></th><th scope=col>Start</th><th scope=col>Stop</th><th scope=col>SEX</th><th scope=col>height</th><th scope=col>weight</th><th scope=col>NTproBNP</th><th scope=col>Hemoglobina</th><th scope=col>sTfR</th></tr>\n",
              "\t<tr><th></th><th scope=col>&lt;chr&gt;</th><th scope=col>&lt;chr&gt;</th><th scope=col>&lt;int&gt;</th><th scope=col>&lt;int&gt;</th><th scope=col>&lt;int&gt;</th><th scope=col>&lt;dbl&gt;</th><th scope=col>&lt;dbl&gt;</th><th scope=col>&lt;dbl&gt;</th></tr>\n",
              "</thead>\n",
              "<tbody>\n",
              "\t<tr><th scope=row>1</th><td>2008-12-23</td><td>2011-07-01</td><td>1</td><td>177</td><td>100</td><td>4.127134</td><td>12.24621</td><td>0.7561220</td></tr>\n",
              "\t<tr><th scope=row>2</th><td>2008-12-23</td><td>2011-07-01</td><td>0</td><td>170</td><td> 84</td><td>5.351858</td><td>12.89075</td><td>0.9669838</td></tr>\n",
              "\t<tr><th scope=row>3</th><td>2008-12-19</td><td>2011-07-01</td><td>0</td><td>179</td><td> 76</td><td>4.276666</td><td>14.34096</td><td>0.7030975</td></tr>\n",
              "\t<tr><th scope=row>4</th><td>2008-12-19</td><td>2011-07-01</td><td>1</td><td>186</td><td>121</td><td>5.036953</td><td>14.50209</td><td>0.8837675</td></tr>\n",
              "\t<tr><th scope=row>5</th><td>2008-12-18</td><td>2011-07-01</td><td>1</td><td>157</td><td> 56</td><td>5.726848</td><td>16.27457</td><td>0.8586616</td></tr>\n",
              "\t<tr><th scope=row>6</th><td>2008-12-18</td><td>2011-07-01</td><td>1</td><td>169</td><td> 74</td><td>5.288267</td><td>14.50209</td><td>0.7793249</td></tr>\n",
              "</tbody>\n",
              "</table>\n"
            ],
            "text/markdown": "\nA data.frame: 6 × 8\n\n| <!--/--> | Start &lt;chr&gt; | Stop &lt;chr&gt; | SEX &lt;int&gt; | height &lt;int&gt; | weight &lt;int&gt; | NTproBNP &lt;dbl&gt; | Hemoglobina &lt;dbl&gt; | sTfR &lt;dbl&gt; |\n|---|---|---|---|---|---|---|---|---|\n| 1 | 2008-12-23 | 2011-07-01 | 1 | 177 | 100 | 4.127134 | 12.24621 | 0.7561220 |\n| 2 | 2008-12-23 | 2011-07-01 | 0 | 170 |  84 | 5.351858 | 12.89075 | 0.9669838 |\n| 3 | 2008-12-19 | 2011-07-01 | 0 | 179 |  76 | 4.276666 | 14.34096 | 0.7030975 |\n| 4 | 2008-12-19 | 2011-07-01 | 1 | 186 | 121 | 5.036953 | 14.50209 | 0.8837675 |\n| 5 | 2008-12-18 | 2011-07-01 | 1 | 157 |  56 | 5.726848 | 16.27457 | 0.8586616 |\n| 6 | 2008-12-18 | 2011-07-01 | 1 | 169 |  74 | 5.288267 | 14.50209 | 0.7793249 |\n\n",
            "text/latex": "A data.frame: 6 × 8\n\\begin{tabular}{r|llllllll}\n  & Start & Stop & SEX & height & weight & NTproBNP & Hemoglobina & sTfR\\\\\n  & <chr> & <chr> & <int> & <int> & <int> & <dbl> & <dbl> & <dbl>\\\\\n\\hline\n\t1 & 2008-12-23 & 2011-07-01 & 1 & 177 & 100 & 4.127134 & 12.24621 & 0.7561220\\\\\n\t2 & 2008-12-23 & 2011-07-01 & 0 & 170 &  84 & 5.351858 & 12.89075 & 0.9669838\\\\\n\t3 & 2008-12-19 & 2011-07-01 & 0 & 179 &  76 & 4.276666 & 14.34096 & 0.7030975\\\\\n\t4 & 2008-12-19 & 2011-07-01 & 1 & 186 & 121 & 5.036953 & 14.50209 & 0.8837675\\\\\n\t5 & 2008-12-18 & 2011-07-01 & 1 & 157 &  56 & 5.726848 & 16.27457 & 0.8586616\\\\\n\t6 & 2008-12-18 & 2011-07-01 & 1 & 169 &  74 & 5.288267 & 14.50209 & 0.7793249\\\\\n\\end{tabular}\n",
            "text/plain": [
              "  Start      Stop       SEX height weight NTproBNP Hemoglobina sTfR     \n",
              "1 2008-12-23 2011-07-01 1   177    100    4.127134 12.24621    0.7561220\n",
              "2 2008-12-23 2011-07-01 0   170     84    5.351858 12.89075    0.9669838\n",
              "3 2008-12-19 2011-07-01 0   179     76    4.276666 14.34096    0.7030975\n",
              "4 2008-12-19 2011-07-01 1   186    121    5.036953 14.50209    0.8837675\n",
              "5 2008-12-18 2011-07-01 1   157     56    5.726848 16.27457    0.8586616\n",
              "6 2008-12-18 2011-07-01 1   169     74    5.288267 14.50209    0.7793249"
            ]
          },
          "metadata": {}
        }
      ]
    },
    {
      "cell_type": "code",
      "source": [
        "#Selecting the 3rd and 7th columns\n",
        "head(dane[, c(3,7)])"
      ],
      "metadata": {
        "colab": {
          "base_uri": "https://localhost:8080/",
          "height": 286
        },
        "id": "XfVd9nogFS8J",
        "outputId": "be13c39d-dac3-454f-cada-4fb89bdc9bf8"
      },
      "execution_count": 5,
      "outputs": [
        {
          "output_type": "display_data",
          "data": {
            "text/html": [
              "<table class=\"dataframe\">\n",
              "<caption>A data.frame: 6 × 2</caption>\n",
              "<thead>\n",
              "\t<tr><th></th><th scope=col>SEX</th><th scope=col>Hemoglobina</th></tr>\n",
              "\t<tr><th></th><th scope=col>&lt;int&gt;</th><th scope=col>&lt;dbl&gt;</th></tr>\n",
              "</thead>\n",
              "<tbody>\n",
              "\t<tr><th scope=row>1</th><td>1</td><td>12.24621</td></tr>\n",
              "\t<tr><th scope=row>2</th><td>0</td><td>12.89075</td></tr>\n",
              "\t<tr><th scope=row>3</th><td>0</td><td>14.34096</td></tr>\n",
              "\t<tr><th scope=row>4</th><td>1</td><td>14.50209</td></tr>\n",
              "\t<tr><th scope=row>5</th><td>1</td><td>16.27457</td></tr>\n",
              "\t<tr><th scope=row>6</th><td>1</td><td>14.50209</td></tr>\n",
              "</tbody>\n",
              "</table>\n"
            ],
            "text/markdown": "\nA data.frame: 6 × 2\n\n| <!--/--> | SEX &lt;int&gt; | Hemoglobina &lt;dbl&gt; |\n|---|---|---|\n| 1 | 1 | 12.24621 |\n| 2 | 0 | 12.89075 |\n| 3 | 0 | 14.34096 |\n| 4 | 1 | 14.50209 |\n| 5 | 1 | 16.27457 |\n| 6 | 1 | 14.50209 |\n\n",
            "text/latex": "A data.frame: 6 × 2\n\\begin{tabular}{r|ll}\n  & SEX & Hemoglobina\\\\\n  & <int> & <dbl>\\\\\n\\hline\n\t1 & 1 & 12.24621\\\\\n\t2 & 0 & 12.89075\\\\\n\t3 & 0 & 14.34096\\\\\n\t4 & 1 & 14.50209\\\\\n\t5 & 1 & 16.27457\\\\\n\t6 & 1 & 14.50209\\\\\n\\end{tabular}\n",
            "text/plain": [
              "  SEX Hemoglobina\n",
              "1 1   12.24621   \n",
              "2 0   12.89075   \n",
              "3 0   14.34096   \n",
              "4 1   14.50209   \n",
              "5 1   16.27457   \n",
              "6 1   14.50209   "
            ]
          },
          "metadata": {}
        }
      ]
    },
    {
      "cell_type": "code",
      "source": [
        "dim(dane)"
      ],
      "metadata": {
        "colab": {
          "base_uri": "https://localhost:8080/",
          "height": 34
        },
        "id": "BKU63hOzGLrg",
        "outputId": "50fe5470-7714-4142-be11-5d36935282bc"
      },
      "execution_count": 7,
      "outputs": [
        {
          "output_type": "display_data",
          "data": {
            "text/html": [
              "<style>\n",
              ".list-inline {list-style: none; margin:0; padding: 0}\n",
              ".list-inline>li {display: inline-block}\n",
              ".list-inline>li:not(:last-child)::after {content: \"\\00b7\"; padding: 0 .5ex}\n",
              "</style>\n",
              "<ol class=list-inline><li>87</li><li>8</li></ol>\n"
            ],
            "text/markdown": "1. 87\n2. 8\n\n\n",
            "text/latex": "\\begin{enumerate*}\n\\item 87\n\\item 8\n\\end{enumerate*}\n",
            "text/plain": [
              "[1] 87  8"
            ]
          },
          "metadata": {}
        }
      ]
    },
    {
      "cell_type": "code",
      "source": [
        "summary(dane)"
      ],
      "metadata": {
        "colab": {
          "base_uri": "https://localhost:8080/",
          "height": 260
        },
        "id": "np7nLHdSFpLi",
        "outputId": "de2ac52b-ce5c-45ff-e486-9dd52b774c05"
      },
      "execution_count": 6,
      "outputs": [
        {
          "output_type": "display_data",
          "data": {
            "text/plain": [
              "    Start               Stop                SEX             height     \n",
              " Length:87          Length:87          Min.   :0.0000   Min.   :153.0  \n",
              " Class :character   Class :character   1st Qu.:1.0000   1st Qu.:170.5  \n",
              " Mode  :character   Mode  :character   Median :1.0000   Median :176.0  \n",
              "                                       Mean   :0.8046   Mean   :176.4  \n",
              "                                       3rd Qu.:1.0000   3rd Qu.:182.0  \n",
              "                                       Max.   :1.0000   Max.   :195.0  \n",
              "     weight          NTproBNP      Hemoglobina         sTfR       \n",
              " Min.   : 51.00   Min.   :1.356   Min.   :11.28   Min.   :0.5710  \n",
              " 1st Qu.: 79.00   1st Qu.:4.858   1st Qu.:13.54   1st Qu.:0.7056  \n",
              " Median : 86.00   Median :5.927   Median :14.34   Median :0.7930  \n",
              " Mean   : 87.14   Mean   :5.705   Mean   :14.39   Mean   :0.8108  \n",
              " 3rd Qu.: 98.50   3rd Qu.:6.677   3rd Qu.:15.47   3rd Qu.:0.8734  \n",
              " Max.   :131.00   Max.   :8.723   Max.   :18.05   Max.   :1.2413  "
            ]
          },
          "metadata": {}
        }
      ]
    },
    {
      "cell_type": "code",
      "source": [
        "hist(dane$Hemoglobina)"
      ],
      "metadata": {
        "colab": {
          "base_uri": "https://localhost:8080/",
          "height": 437
        },
        "id": "64nu0C86GHZn",
        "outputId": "12b42ca9-02ec-4014-e048-62fea1328963"
      },
      "execution_count": 8,
      "outputs": [
        {
          "output_type": "display_data",
          "data": {
            "text/plain": [
              "Plot with title “Histogram of dane$Hemoglobina”"
            ],
            "image/png": "[encoded data removed]"
          },
          "metadata": {
            "image/png": {
              "width": 420,
              "height": 420
            }
          }
        }
      ]
    },
    {
      "cell_type": "code",
      "source": [
        "dane$anemia <- 0 # Assigning an initial value of 0 for all individuals in the new column \"anemia\"\n",
        "dane[dane[, 3] == 0, 7] # Hemoglobin values for womens"
      ],
      "metadata": {
        "colab": {
          "base_uri": "https://localhost:8080/",
          "height": 52
        },
        "id": "0HRJQ0sSGUMq",
        "outputId": "dbd6044a-bbca-4dd6-d118-b081881dfdd1"
      },
      "execution_count": 10,
      "outputs": [
        {
          "output_type": "display_data",
          "data": {
            "text/html": [
              "<style>\n",
              ".list-inline {list-style: none; margin:0; padding: 0}\n",
              ".list-inline>li {display: inline-block}\n",
              ".list-inline>li:not(:last-child)::after {content: \"\\00b7\"; padding: 0 .5ex}\n",
              "</style>\n",
              "<ol class=list-inline><li>12.89075089</li><li>14.34096036</li><li>12.7296165</li><li>13.53528843</li><li>12.08507896</li><li>11.92394457</li><li>13.21301966</li><li>12.40734773</li><li>13.37415404</li><li>13.69642282</li><li>14.01869159</li><li>13.8575572</li><li>14.17982597</li><li>13.05188527</li><li>12.7296165</li><li>12.89075089</li><li>13.05188527</li></ol>\n"
            ],
            "text/markdown": "1. 12.89075089\n2. 14.34096036\n3. 12.7296165\n4. 13.53528843\n5. 12.08507896\n6. 11.92394457\n7. 13.21301966\n8. 12.40734773\n9. 13.37415404\n10. 13.69642282\n11. 14.01869159\n12. 13.8575572\n13. 14.17982597\n14. 13.05188527\n15. 12.7296165\n16. 12.89075089\n17. 13.05188527\n\n\n",
            "text/latex": "\\begin{enumerate*}\n\\item 12.89075089\n\\item 14.34096036\n\\item 12.7296165\n\\item 13.53528843\n\\item 12.08507896\n\\item 11.92394457\n\\item 13.21301966\n\\item 12.40734773\n\\item 13.37415404\n\\item 13.69642282\n\\item 14.01869159\n\\item 13.8575572\n\\item 14.17982597\n\\item 13.05188527\n\\item 12.7296165\n\\item 12.89075089\n\\item 13.05188527\n\\end{enumerate*}\n",
            "text/plain": [
              " [1] 12.89075 14.34096 12.72962 13.53529 12.08508 11.92394 13.21302 12.40735\n",
              " [9] 13.37415 13.69642 14.01869 13.85756 14.17983 13.05189 12.72962 12.89075\n",
              "[17] 13.05189"
            ]
          },
          "metadata": {}
        }
      ]
    },
    {
      "cell_type": "markdown",
      "source": [],
      "metadata": {
        "id": "ya1WXM7qIm9O"
      }
    },
    {
      "cell_type": "code",
      "source": [
        "dane[dane[,3] == 1,7]# Hemoglobin values for mens"
      ],
      "metadata": {
        "colab": {
          "base_uri": "https://localhost:8080/",
          "height": 121
        },
        "id": "qtyws3L2Glbs",
        "outputId": "f61693d6-5be6-499a-a4f8-56dcd2d42a3f"
      },
      "execution_count": 11,
      "outputs": [
        {
          "output_type": "display_data",
          "data": {
            "text/html": [
              "<style>\n",
              ".list-inline {list-style: none; margin:0; padding: 0}\n",
              ".list-inline>li {display: inline-block}\n",
              ".list-inline>li:not(:last-child)::after {content: \"\\00b7\"; padding: 0 .5ex}\n",
              "</style>\n",
              "<ol class=list-inline><li>12.24621334</li><li>14.50209475</li><li>16.27457299</li><li>14.50209475</li><li>13.37415404</li><li>15.95230422</li><li>11.27940703</li><li>16.59684177</li><li>14.17982597</li><li>12.56848211</li><li>14.34096036</li><li>13.53528843</li><li>15.63003545</li><li>14.82436352</li><li>14.34096036</li><li>14.50209475</li><li>15.79116984</li><li>15.79116984</li><li>15.46890106</li><li>18.04705124</li><li>15.46890106</li><li>12.89075089</li><li>14.50209475</li><li>13.8575572</li><li>14.66322913</li><li>14.50209475</li><li>15.79116984</li><li>15.79116984</li><li>15.30776668</li><li>15.79116984</li><li>14.34096036</li><li>14.66322913</li><li>14.66322913</li><li>16.43570738</li><li>15.79116984</li><li>14.34096036</li><li>12.40734773</li><li>15.14663229</li><li>13.8575572</li><li>14.17982597</li><li>15.95230422</li><li>13.21301966</li><li>13.21301966</li><li>13.8575572</li><li>15.63003545</li><li>13.8575572</li><li>14.82436352</li><li>14.66322913</li><li>13.53528843</li><li>13.37415404</li><li>16.27457299</li><li>16.11343861</li><li>15.79116984</li><li>14.50209475</li><li>13.53528843</li><li>12.7296165</li><li>13.8575572</li><li>16.11343861</li><li>15.30776668</li><li>14.34096036</li><li>14.50209475</li><li>13.69642282</li><li>15.30776668</li><li>15.46890106</li><li>15.79116984</li><li>15.79116984</li><li>14.34096036</li><li>14.98549791</li><li>14.82436352</li><li>14.17982597</li></ol>\n"
            ],
            "text/markdown": "1. 12.24621334\n2. 14.50209475\n3. 16.27457299\n4. 14.50209475\n5. 13.37415404\n6. 15.95230422\n7. 11.27940703\n8. 16.59684177\n9. 14.17982597\n10. 12.56848211\n11. 14.34096036\n12. 13.53528843\n13. 15.63003545\n14. 14.82436352\n15. 14.34096036\n16. 14.50209475\n17. 15.79116984\n18. 15.79116984\n19. 15.46890106\n20. 18.04705124\n21. 15.46890106\n22. 12.89075089\n23. 14.50209475\n24. 13.8575572\n25. 14.66322913\n26. 14.50209475\n27. 15.79116984\n28. 15.79116984\n29. 15.30776668\n30. 15.79116984\n31. 14.34096036\n32. 14.66322913\n33. 14.66322913\n34. 16.43570738\n35. 15.79116984\n36. 14.34096036\n37. 12.40734773\n38. 15.14663229\n39. 13.8575572\n40. 14.17982597\n41. 15.95230422\n42. 13.21301966\n43. 13.21301966\n44. 13.8575572\n45. 15.63003545\n46. 13.8575572\n47. 14.82436352\n48. 14.66322913\n49. 13.53528843\n50. 13.37415404\n51. 16.27457299\n52. 16.11343861\n53. 15.79116984\n54. 14.50209475\n55. 13.53528843\n56. 12.7296165\n57. 13.8575572\n58. 16.11343861\n59. 15.30776668\n60. 14.34096036\n61. 14.50209475\n62. 13.69642282\n63. 15.30776668\n64. 15.46890106\n65. 15.79116984\n66. 15.79116984\n67. 14.34096036\n68. 14.98549791\n69. 14.82436352\n70. 14.17982597\n\n\n",
            "text/latex": "\\begin{enumerate*}\n\\item 12.24621334\n\\item 14.50209475\n\\item 16.27457299\n\\item 14.50209475\n\\item 13.37415404\n\\item 15.95230422\n\\item 11.27940703\n\\item 16.59684177\n\\item 14.17982597\n\\item 12.56848211\n\\item 14.34096036\n\\item 13.53528843\n\\item 15.63003545\n\\item 14.82436352\n\\item 14.34096036\n\\item 14.50209475\n\\item 15.79116984\n\\item 15.79116984\n\\item 15.46890106\n\\item 18.04705124\n\\item 15.46890106\n\\item 12.89075089\n\\item 14.50209475\n\\item 13.8575572\n\\item 14.66322913\n\\item 14.50209475\n\\item 15.79116984\n\\item 15.79116984\n\\item 15.30776668\n\\item 15.79116984\n\\item 14.34096036\n\\item 14.66322913\n\\item 14.66322913\n\\item 16.43570738\n\\item 15.79116984\n\\item 14.34096036\n\\item 12.40734773\n\\item 15.14663229\n\\item 13.8575572\n\\item 14.17982597\n\\item 15.95230422\n\\item 13.21301966\n\\item 13.21301966\n\\item 13.8575572\n\\item 15.63003545\n\\item 13.8575572\n\\item 14.82436352\n\\item 14.66322913\n\\item 13.53528843\n\\item 13.37415404\n\\item 16.27457299\n\\item 16.11343861\n\\item 15.79116984\n\\item 14.50209475\n\\item 13.53528843\n\\item 12.7296165\n\\item 13.8575572\n\\item 16.11343861\n\\item 15.30776668\n\\item 14.34096036\n\\item 14.50209475\n\\item 13.69642282\n\\item 15.30776668\n\\item 15.46890106\n\\item 15.79116984\n\\item 15.79116984\n\\item 14.34096036\n\\item 14.98549791\n\\item 14.82436352\n\\item 14.17982597\n\\end{enumerate*}\n",
            "text/plain": [
              " [1] 12.24621 14.50209 16.27457 14.50209 13.37415 15.95230 11.27941 16.59684\n",
              " [9] 14.17983 12.56848 14.34096 13.53529 15.63004 14.82436 14.34096 14.50209\n",
              "[17] 15.79117 15.79117 15.46890 18.04705 15.46890 12.89075 14.50209 13.85756\n",
              "[25] 14.66323 14.50209 15.79117 15.79117 15.30777 15.79117 14.34096 14.66323\n",
              "[33] 14.66323 16.43571 15.79117 14.34096 12.40735 15.14663 13.85756 14.17983\n",
              "[41] 15.95230 13.21302 13.21302 13.85756 15.63004 13.85756 14.82436 14.66323\n",
              "[49] 13.53529 13.37415 16.27457 16.11344 15.79117 14.50209 13.53529 12.72962\n",
              "[57] 13.85756 16.11344 15.30777 14.34096 14.50209 13.69642 15.30777 15.46890\n",
              "[65] 15.79117 15.79117 14.34096 14.98550 14.82436 14.17983"
            ]
          },
          "metadata": {}
        }
      ]
    },
    {
      "cell_type": "code",
      "source": [
        "dane$anemia[dane$SEX == 0 & dane$Hemoglobin < 12] <- 1 # Encoding women with anemia\n",
        "dane$anemia[dane$SEX == 1 & dane$Hemoglobin < 13] <- 1 # Encoding men with anemia"
      ],
      "metadata": {
        "id": "Ow3W-h8wGxg7"
      },
      "execution_count": 13,
      "outputs": []
    },
    {
      "cell_type": "code",
      "source": [
        "table(dane$anemia) "
      ],
      "metadata": {
        "colab": {
          "base_uri": "https://localhost:8080/",
          "height": 69
        },
        "id": "MMjX1PJlG323",
        "outputId": "45fa69bc-f44c-463a-fd3e-1cd509a5e3a5"
      },
      "execution_count": 15,
      "outputs": [
        {
          "output_type": "display_data",
          "data": {
            "text/plain": [
              "\n",
              " 0  1 \n",
              "80  7 "
            ]
          },
          "metadata": {}
        }
      ]
    },
    {
      "cell_type": "markdown",
      "source": [
        "80 individuals without anemia and 7 with anemia"
      ],
      "metadata": {
        "id": "-U5s_CHDIvNn"
      }
    },
    {
      "cell_type": "code",
      "source": [
        "table(dane$SEX, dane$anemia) "
      ],
      "metadata": {
        "colab": {
          "base_uri": "https://localhost:8080/",
          "height": 86
        },
        "id": "MX5obF9FG_qg",
        "outputId": "b617bca7-1249-4ebe-8eac-24412caa68f6"
      },
      "execution_count": 16,
      "outputs": [
        {
          "output_type": "display_data",
          "data": {
            "text/plain": [
              "   \n",
              "     0  1\n",
              "  0 16  1\n",
              "  1 64  6"
            ]
          },
          "metadata": {}
        }
      ]
    },
    {
      "cell_type": "markdown",
      "source": [
        " 1 woman with anemia and 6 men with anemia, vertically represents gender, horizontally represents anemia."
      ],
      "metadata": {
        "id": "sKkVb2DVIyXt"
      }
    },
    {
      "cell_type": "code",
      "source": [
        "dane[dane$anemia == 1, c(3,7,9)]"
      ],
      "metadata": {
        "colab": {
          "base_uri": "https://localhost:8080/",
          "height": 317
        },
        "id": "h65v0HEuHU7N",
        "outputId": "da9181f3-4d25-43a7-dc64-732776eb9fd6"
      },
      "execution_count": 17,
      "outputs": [
        {
          "output_type": "display_data",
          "data": {
            "text/html": [
              "<table class=\"dataframe\">\n",
              "<caption>A data.frame: 7 × 3</caption>\n",
              "<thead>\n",
              "\t<tr><th></th><th scope=col>SEX</th><th scope=col>Hemoglobina</th><th scope=col>anemia</th></tr>\n",
              "\t<tr><th></th><th scope=col>&lt;int&gt;</th><th scope=col>&lt;dbl&gt;</th><th scope=col>&lt;dbl&gt;</th></tr>\n",
              "</thead>\n",
              "<tbody>\n",
              "\t<tr><th scope=row>1</th><td>1</td><td>12.24621</td><td>1</td></tr>\n",
              "\t<tr><th scope=row>10</th><td>1</td><td>11.27941</td><td>1</td></tr>\n",
              "\t<tr><th scope=row>13</th><td>1</td><td>12.56848</td><td>1</td></tr>\n",
              "\t<tr><th scope=row>27</th><td>1</td><td>12.89075</td><td>1</td></tr>\n",
              "\t<tr><th scope=row>33</th><td>0</td><td>11.92394</td><td>1</td></tr>\n",
              "\t<tr><th scope=row>44</th><td>1</td><td>12.40735</td><td>1</td></tr>\n",
              "\t<tr><th scope=row>70</th><td>1</td><td>12.72962</td><td>1</td></tr>\n",
              "</tbody>\n",
              "</table>\n"
            ],
            "text/markdown": "\nA data.frame: 7 × 3\n\n| <!--/--> | SEX &lt;int&gt; | Hemoglobina &lt;dbl&gt; | anemia &lt;dbl&gt; |\n|---|---|---|---|\n| 1 | 1 | 12.24621 | 1 |\n| 10 | 1 | 11.27941 | 1 |\n| 13 | 1 | 12.56848 | 1 |\n| 27 | 1 | 12.89075 | 1 |\n| 33 | 0 | 11.92394 | 1 |\n| 44 | 1 | 12.40735 | 1 |\n| 70 | 1 | 12.72962 | 1 |\n\n",
            "text/latex": "A data.frame: 7 × 3\n\\begin{tabular}{r|lll}\n  & SEX & Hemoglobina & anemia\\\\\n  & <int> & <dbl> & <dbl>\\\\\n\\hline\n\t1 & 1 & 12.24621 & 1\\\\\n\t10 & 1 & 11.27941 & 1\\\\\n\t13 & 1 & 12.56848 & 1\\\\\n\t27 & 1 & 12.89075 & 1\\\\\n\t33 & 0 & 11.92394 & 1\\\\\n\t44 & 1 & 12.40735 & 1\\\\\n\t70 & 1 & 12.72962 & 1\\\\\n\\end{tabular}\n",
            "text/plain": [
              "   SEX Hemoglobina anemia\n",
              "1  1   12.24621    1     \n",
              "10 1   11.27941    1     \n",
              "13 1   12.56848    1     \n",
              "27 1   12.89075    1     \n",
              "33 0   11.92394    1     \n",
              "44 1   12.40735    1     \n",
              "70 1   12.72962    1     "
            ]
          },
          "metadata": {}
        }
      ]
    },
    {
      "cell_type": "code",
      "source": [
        "Oa = 1; Ob = 6; p = 7/87; Ea = 17 * p; Eb = 70 * p\n",
        "\n",
        "#Where:\n",
        "\n",
        "#p represents the ratio of individuals with anemia to the total population.\n",
        "#Oa represents the number of individuals with anemia in group A (women).\n",
        "#Ob represents the number of individuals with anemia in group B (men).\n",
        "#Ea represents the expected number of individuals with anemia in group A (women).\n",
        "#Eb represents the expected number of individuals with anemia in group B (men).\n",
        "#Using the given values:\n",
        "\n",
        "#Oa = 1 (1 woman with anemia)\n",
        "#Ob = 6 (6 men with anemia)\n",
        "#p = 7/87 (ratio of 7 individuals with anemia out of the total population of 87)\n",
        "#Ea = 17 * p (expected number of women with anemia)"
      ],
      "metadata": {
        "id": "vZKQRXgeHWjI"
      },
      "execution_count": 18,
      "outputs": []
    },
    {
      "cell_type": "markdown",
      "source": [
        "Where:\n",
        "\n",
        "* p represents the ratio of individuals with anemia to the total population.\n",
        "* Oa represents the number of individuals with anemia in group A (women).\n",
        "* Ob represents the number of individuals with anemia in group B (men).\n",
        "* Ea represents the expected number of individuals with anemia in group A (women).\n",
        "* Eb represents the expected number of individuals with anemia in group B (men).\n",
        "\n",
        "Using the given values:\n",
        "\n",
        "* Oa = 1 (1 woman with anemia)\n",
        "* Ob = 6 (6 men with anemia)\n",
        "* p = 7/87 (ratio of 7 individuals with anemia out of the total population of 87)\n",
        "* Ea = 17 * p (expected number of women with anemia)"
      ],
      "metadata": {
        "id": "WPVGj9-zI064"
      }
    },
    {
      "cell_type": "code",
      "source": [
        "#Hazard ratio (HR)\n",
        "HR = (Ob / Eb) / (Oa / Ea)\n",
        "HR\n",
        "\n"
      ],
      "metadata": {
        "colab": {
          "base_uri": "https://localhost:8080/",
          "height": 34
        },
        "id": "ZLBSIxAWIVz1",
        "outputId": "f967ae04-bc8b-4813-dc9c-b8541bde3f77"
      },
      "execution_count": 20,
      "outputs": [
        {
          "output_type": "display_data",
          "data": {
            "text/html": [
              "1.45714285714286"
            ],
            "text/markdown": "1.45714285714286",
            "text/latex": "1.45714285714286",
            "text/plain": [
              "[1] 1.457143"
            ]
          },
          "metadata": {}
        }
      ]
    },
    {
      "cell_type": "markdown",
      "source": [
        "The hazard ratio (HR) is calculated as the ratio of the hazard (risk) of anemia in men compared to women. In this case, the HR is approximately 1.45.\n",
        "\n",
        "Interpretation: The risk of anemia in men is 1.45 times higher than in women."
      ],
      "metadata": {
        "id": "IZdPVsYSJH7k"
      }
    },
    {
      "cell_type": "code",
      "source": [
        "#Relative Risk (RR)\n",
        "\n",
        "RR = (6/70) / (1/17)\n",
        "RR\n",
        "\n"
      ],
      "metadata": {
        "id": "iZ4JCDhFIe8w"
      },
      "execution_count": null,
      "outputs": []
    },
    {
      "cell_type": "markdown",
      "source": [
        "RR is the ratio of the number of individuals with anemia to the total number of individuals in each group (men to women)\n",
        "\n",
        "The relative risk (RR) is calculated as the ratio of the risk of anemia in men to the risk of anemia in women. In this case, the RR is approximately 1.45.\n",
        "\n",
        "Interpretation: The risk of anemia in men is 1.45 times higher than in women."
      ],
      "metadata": {
        "id": "V0ESESd2JXhh"
      }
    },
    {
      "cell_type": "code",
      "source": [
        "#Odds Ratio (OR)\n",
        "OR = (6/64) / (1/16)\n",
        "OR"
      ],
      "metadata": {
        "colab": {
          "base_uri": "https://localhost:8080/",
          "height": 34
        },
        "id": "c4qBc746JZkD",
        "outputId": "d280ce0c-dd21-46b9-b34e-c7f556f1bfd5"
      },
      "execution_count": 21,
      "outputs": [
        {
          "output_type": "display_data",
          "data": {
            "text/html": [
              "1.5"
            ],
            "text/markdown": "1.5",
            "text/latex": "1.5",
            "text/plain": [
              "[1] 1.5"
            ]
          },
          "metadata": {}
        }
      ]
    },
    {
      "cell_type": "markdown",
      "source": [
        "Odds Ratio (OR)\n",
        "\n",
        "The ratio of the number of individuals with anemia to the number of individuals without anemia in each group (men to women)\n",
        "\n",
        "The odds ratio (OR) is calculated as the ratio of the odds of having anemia in men to the odds of having anemia in women. In this case, the OR is approximately 1.5.\n",
        "\n",
        "Interpretation: The odds of having anemia in men are approximately 1.5 times higher than in women."
      ],
      "metadata": {
        "id": "EOCOZDCOJs1L"
      }
    },
    {
      "cell_type": "markdown",
      "source": [
        "##  b)"
      ],
      "metadata": {
        "id": "KSYZdp9vKMxc"
      }
    },
    {
      "cell_type": "markdown",
      "source": [
        "**For the above data, determine the survival time of each patient, and then\n",
        "determine the 3-year \"follow-up\" and KaplanMeier survival function estimator.**"
      ],
      "metadata": {
        "id": "v6G6qexbKV_v"
      }
    },
    {
      "cell_type": "code",
      "source": [
        "dane$FU = as.Date(dane$Stop) - as.Date(dane$Start)\n",
        "dane$FU = as.integer(as.Date(dane$Stop) - as.Date(dane$Start))"
      ],
      "metadata": {
        "id": "ydZVZOXjJ6ah"
      },
      "execution_count": 22,
      "outputs": []
    },
    {
      "cell_type": "code",
      "source": [
        "#Creating data where a period longer than 3 years (1095 days) is represented as 1095\n",
        "dane$FU2 <- dane$FU\n",
        "dane$FU2[dane$FU > 1095] <- 1095\n",
        "\n",
        "#Creating data where individuals with anemia detected after the 3rd year of the study are assigned a value of 0 (indicating no anemia)\n",
        "dane$anemia2 <- dane$anemia\n",
        "dane$anemia2[dane$FU > 1095 & dane$anemia == 1] <- 0"
      ],
      "metadata": {
        "id": "AVxCVDksKd1C"
      },
      "execution_count": 24,
      "outputs": []
    },
    {
      "cell_type": "code",
      "source": [
        "library(survival)"
      ],
      "metadata": {
        "id": "a1iS-dqJKwXA"
      },
      "execution_count": 25,
      "outputs": []
    },
    {
      "cell_type": "code",
      "source": [
        "km = survfit(Surv(dane$FU2, dane$anemia2) ~ 1)\n",
        "km"
      ],
      "metadata": {
        "colab": {
          "base_uri": "https://localhost:8080/",
          "height": 86
        },
        "id": "gZjfqT0rK8aJ",
        "outputId": "77212e28-b7ff-4d6a-bebf-da1f89da5a5d"
      },
      "execution_count": 26,
      "outputs": [
        {
          "output_type": "display_data",
          "data": {
            "text/plain": [
              "Call: survfit(formula = Surv(dane$FU2, dane$anemia2) ~ 1)\n",
              "\n",
              "      n events median 0.95LCL 0.95UCL\n",
              "[1,] 87      6     NA      NA      NA"
            ]
          },
          "metadata": {}
        }
      ]
    },
    {
      "cell_type": "markdown",
      "source": [
        "The results show that there were 87 individuals included in the analysis. Out of these, 6 events (such as deaths or other defined outcomes) were observed. However, the median survival time and the 95% confidence interval for the survival estimates are not provided in the output (NA represents missing values). Therefore, further interpretation of the survival estimates cannot be made based on this specific output."
      ],
      "metadata": {
        "id": "onQ7qeFZLzfl"
      }
    },
    {
      "cell_type": "code",
      "source": [
        "summary(km)"
      ],
      "metadata": {
        "colab": {
          "base_uri": "https://localhost:8080/",
          "height": 173
        },
        "id": "RWWJBqNuK-YD",
        "outputId": "9ad9864b-df5c-42fa-c7f2-16dac275e8f9"
      },
      "execution_count": 27,
      "outputs": [
        {
          "output_type": "display_data",
          "data": {
            "text/plain": [
              "Call: survfit(formula = Surv(dane$FU2, dane$anemia2) ~ 1)\n",
              "\n",
              " time n.risk n.event survival std.err lower 95% CI upper 95% CI\n",
              "  920     87       1    0.989  0.0114        0.966        1.000\n",
              "  932     80       1    0.976  0.0167        0.944        1.000\n",
              "  939     76       1    0.963  0.0208        0.923        1.000\n",
              "  981     61       1    0.948  0.0258        0.898        0.999\n",
              " 1003     56       1    0.931  0.0304        0.873        0.992\n",
              " 1043     44       1    0.909  0.0363        0.841        0.983"
            ]
          },
          "metadata": {}
        }
      ]
    },
    {
      "cell_type": "code",
      "source": [
        "plot(km, col=\"blue\", lwd = 2)\n",
        "plot(km, col=\"blue\", lwd = 2, conf.int = FALSE) #without confidence interval"
      ],
      "metadata": {
        "colab": {
          "base_uri": "https://localhost:8080/",
          "height": 857
        },
        "id": "bhY0X9noLNGv",
        "outputId": "e4f5cd52-83bd-461a-d832-4452ee14c8d6"
      },
      "execution_count": 28,
      "outputs": [
        {
          "output_type": "display_data",
          "data": {
            "text/plain": [
              "plot without title"
            ],
            "image/png": "[encoded data removed]"
          },
          "metadata": {
            "image/png": {
              "width": 420,
              "height": 420
            }
          }
        },
        {
          "output_type": "display_data",
          "data": {
            "text/plain": [
              "plot without title"
            ],
            "image/png": "[encoded data removed]"
          },
          "metadata": {
            "image/png": {
              "width": 420,
              "height": 420
            }
          }
        }
      ]
    },
    {
      "cell_type": "markdown",
      "source": [
        "The absence of a median means that it is not possible to determine the exact value of the median survival time based on the available data. This can be due to various reasons such as insufficient follow-up time, no events (e.g., deaths) occurring, or a small sample size in the study. In such cases, it is difficult to ascertain the central value of survival time for the analyzed group."
      ],
      "metadata": {
        "id": "dLjplB3LL45M"
      }
    },
    {
      "cell_type": "markdown",
      "source": [
        "## c)"
      ],
      "metadata": {
        "id": "fV2cMDdfOZpQ"
      }
    },
    {
      "cell_type": "markdown",
      "source": [
        "**For previous data, determine the median survival and its 95% confidence interval, and\n",
        "determine the hazard function for the first and third years.**"
      ],
      "metadata": {
        "id": "-zChqwuROa_m"
      }
    },
    {
      "cell_type": "code",
      "source": [
        "#it is impossible to determine the median, because less than half of the people became ill"
      ],
      "metadata": {
        "id": "7vEtwoTKLPgR"
      },
      "execution_count": 29,
      "outputs": []
    },
    {
      "cell_type": "code",
      "source": [
        "km"
      ],
      "metadata": {
        "colab": {
          "base_uri": "https://localhost:8080/",
          "height": 86
        },
        "id": "HixsB-6gOlg4",
        "outputId": "971c66f4-1000-4bc1-b4cd-791c0bdff4f6"
      },
      "execution_count": 30,
      "outputs": [
        {
          "output_type": "display_data",
          "data": {
            "text/plain": [
              "Call: survfit(formula = Surv(dane$FU2, dane$anemia2) ~ 1)\n",
              "\n",
              "      n events median 0.95LCL 0.95UCL\n",
              "[1,] 87      6     NA      NA      NA"
            ]
          },
          "metadata": {}
        }
      ]
    },
    {
      "cell_type": "code",
      "source": [
        "summary(km)"
      ],
      "metadata": {
        "colab": {
          "base_uri": "https://localhost:8080/",
          "height": 173
        },
        "id": "Kx0cydcBOobk",
        "outputId": "b385509b-a815-4a10-80f0-2a5f170ef836"
      },
      "execution_count": 31,
      "outputs": [
        {
          "output_type": "display_data",
          "data": {
            "text/plain": [
              "Call: survfit(formula = Surv(dane$FU2, dane$anemia2) ~ 1)\n",
              "\n",
              " time n.risk n.event survival std.err lower 95% CI upper 95% CI\n",
              "  920     87       1    0.989  0.0114        0.966        1.000\n",
              "  932     80       1    0.976  0.0167        0.944        1.000\n",
              "  939     76       1    0.963  0.0208        0.923        1.000\n",
              "  981     61       1    0.948  0.0258        0.898        0.999\n",
              " 1003     56       1    0.931  0.0304        0.873        0.992\n",
              " 1043     44       1    0.909  0.0363        0.841        0.983"
            ]
          },
          "metadata": {}
        }
      ]
    },
    {
      "cell_type": "code",
      "source": [
        "H1 = 0/ (365 * 87)\n",
        "H1 # hazard ratio for day\n",
        "H1 * 365 # hazard ratio for year"
      ],
      "metadata": {
        "colab": {
          "base_uri": "https://localhost:8080/",
          "height": 52
        },
        "id": "sNzMw6mfOpPR",
        "outputId": "90f286e0-5fde-4dcf-c46a-bcc4d9e9cd87"
      },
      "execution_count": 32,
      "outputs": [
        {
          "output_type": "display_data",
          "data": {
            "text/html": [
              "0"
            ],
            "text/markdown": "0",
            "text/latex": "0",
            "text/plain": [
              "[1] 0"
            ]
          },
          "metadata": {}
        },
        {
          "output_type": "display_data",
          "data": {
            "text/html": [
              "0"
            ],
            "text/markdown": "0",
            "text/latex": "0",
            "text/plain": [
              "[1] 0"
            ]
          },
          "metadata": {}
        }
      ]
    },
    {
      "cell_type": "markdown",
      "source": [
        "No individuals with anemia were detected in the first year "
      ],
      "metadata": {
        "id": "TRG4lop_OwZ3"
      }
    },
    {
      "cell_type": "code",
      "source": [
        "dane2 = dane[, c(11, 12)]\n",
        "dane2$FU2 =dane$FU2 - 730"
      ],
      "metadata": {
        "id": "DJ3dy3RWO0NO"
      },
      "execution_count": 33,
      "outputs": []
    },
    {
      "cell_type": "code",
      "source": [
        "colSums(dane2)"
      ],
      "metadata": {
        "colab": {
          "base_uri": "https://localhost:8080/",
          "height": 34
        },
        "id": "dtXj808bPW4y",
        "outputId": "5baf89b7-1847-4937-dc2c-870f2ea60a58"
      },
      "execution_count": 34,
      "outputs": [
        {
          "output_type": "display_data",
          "data": {
            "text/html": [
              "<style>\n",
              ".dl-inline {width: auto; margin:0; padding: 0}\n",
              ".dl-inline>dt, .dl-inline>dd {float: none; width: auto; display: inline-block}\n",
              ".dl-inline>dt::after {content: \":\\0020\"; padding-right: .5ex}\n",
              ".dl-inline>dt:not(:first-of-type) {padding-left: .5ex}\n",
              "</style><dl class=dl-inline><dt>FU2</dt><dd>26242</dd><dt>anemia2</dt><dd>6</dd></dl>\n"
            ],
            "text/markdown": "FU2\n:   26242anemia2\n:   6\n\n",
            "text/latex": "\\begin{description*}\n\\item[FU2] 26242\n\\item[anemia2] 6\n\\end{description*}\n",
            "text/plain": [
              "    FU2 anemia2 \n",
              "  26242       6 "
            ]
          },
          "metadata": {}
        }
      ]
    },
    {
      "cell_type": "code",
      "source": [
        "sum(dane2$FU2)"
      ],
      "metadata": {
        "colab": {
          "base_uri": "https://localhost:8080/",
          "height": 34
        },
        "id": "iG98dKnUPYU5",
        "outputId": "332859db-eb54-4b8d-dc84-5ed7868224db"
      },
      "execution_count": 36,
      "outputs": [
        {
          "output_type": "display_data",
          "data": {
            "text/html": [
              "26242"
            ],
            "text/markdown": "26242",
            "text/latex": "26242",
            "text/plain": [
              "[1] 26242"
            ]
          },
          "metadata": {}
        }
      ]
    },
    {
      "cell_type": "markdown",
      "source": [
        "So much time survived people (with anemia, healthy and censored)"
      ],
      "metadata": {
        "id": "pYldp-80PgJv"
      }
    },
    {
      "cell_type": "code",
      "source": [
        "sum(dane2$anemia2) "
      ],
      "metadata": {
        "colab": {
          "base_uri": "https://localhost:8080/",
          "height": 34
        },
        "id": "uFYpoq9uPbcC",
        "outputId": "758b5f87-c104-4fcd-befc-4ba57aa9b936"
      },
      "execution_count": 37,
      "outputs": [
        {
          "output_type": "display_data",
          "data": {
            "text/html": [
              "6"
            ],
            "text/markdown": "6",
            "text/latex": "6",
            "text/plain": [
              "[1] 6"
            ]
          },
          "metadata": {}
        }
      ]
    },
    {
      "cell_type": "markdown",
      "source": [
        "The number of people with anemia"
      ],
      "metadata": {
        "id": "vrwpU2PBPnYJ"
      }
    },
    {
      "cell_type": "code",
      "source": [
        "H3 = sum(dane2$anemia2) / sum(dane2$FU2) # hazard ratio for day\n",
        "H3 # hazard ratio for day\n",
        "H3 * 365 # hazard ratio for year"
      ],
      "metadata": {
        "colab": {
          "base_uri": "https://localhost:8080/",
          "height": 52
        },
        "id": "d4bR3mRvPm11",
        "outputId": "e73d74db-5ec2-48b6-ddba-21ee51567289"
      },
      "execution_count": 38,
      "outputs": [
        {
          "output_type": "display_data",
          "data": {
            "text/html": [
              "0.000228641109671519"
            ],
            "text/markdown": "0.000228641109671519",
            "text/latex": "0.000228641109671519",
            "text/plain": [
              "[1] 0.0002286411"
            ]
          },
          "metadata": {}
        },
        {
          "output_type": "display_data",
          "data": {
            "text/html": [
              "0.0834540050301044"
            ],
            "text/markdown": "0.0834540050301044",
            "text/latex": "0.0834540050301044",
            "text/plain": [
              "[1] 0.08345401"
            ]
          },
          "metadata": {}
        }
      ]
    },
    {
      "cell_type": "markdown",
      "source": [
        "Given these hazard ratio values, it suggests that the risk of the event occurring in the group associated with the higher hazard ratio is significantly lower compared to the group associated with the lower hazard ratio."
      ],
      "metadata": {
        "id": "30LqK6-QQVa5"
      }
    },
    {
      "cell_type": "code",
      "source": [],
      "metadata": {
        "id": "bOZHLv6QPwT4"
      },
      "execution_count": null,
      "outputs": []
    }
  ],
  "metadata": {
    "colab": {
      "provenance": [],
      "toc_visible": true
    },
    "kernelspec": {
      "display_name": "R",
      "name": "ir"
    },
    "language_info": {
      "name": "R"
    }
  },
  "nbformat": 4,
  "nbformat_minor": 0
}